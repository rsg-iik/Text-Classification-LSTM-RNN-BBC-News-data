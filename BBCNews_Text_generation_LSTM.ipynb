{
 "cells": [
  {
   "cell_type": "code",
   "execution_count": 1,
   "metadata": {},
   "outputs": [
    {
     "name": "stdout",
     "output_type": "stream",
     "text": [
      "2.0.0\n"
     ]
    }
   ],
   "source": [
    "import tensorflow as tf\n",
    "print(tf.__version__)"
   ]
  },
  {
   "cell_type": "code",
   "execution_count": 2,
   "metadata": {},
   "outputs": [
    {
     "name": "stdout",
     "output_type": "stream",
     "text": [
      "Collecting nltk\n",
      "  Using cached nltk-3.5-py3-none-any.whl\n",
      "Requirement already satisfied: tqdm in c:\\users\\mrigank\\anaconda3\\envs\\tensorflow_2\\lib\\site-packages (from nltk) (4.43.0)\n",
      "Requirement already satisfied: joblib in c:\\users\\mrigank\\anaconda3\\envs\\tensorflow_2\\lib\\site-packages (from nltk) (1.0.0)\n",
      "Collecting click\n",
      "  Using cached click-7.1.2-py2.py3-none-any.whl (82 kB)\n",
      "Collecting regex\n",
      "  Downloading regex-2020.11.13-cp36-cp36m-win_amd64.whl (269 kB)\n",
      "Installing collected packages: regex, click, nltk\n",
      "Successfully installed click-7.1.2 nltk-3.5 regex-2020.11.13\n"
     ]
    }
   ],
   "source": [
    "!pip install nltk"
   ]
  },
  {
   "cell_type": "code",
   "execution_count": 5,
   "metadata": {},
   "outputs": [],
   "source": [
    "import csv\n",
    "import tensorflow as tf\n",
    "import numpy as np\n",
    "from tensorflow.keras.preprocessing.text import Tokenizer\n",
    "from tensorflow.keras.preprocessing.sequence import pad_sequences\n",
    "from nltk.corpus import stopwords\n",
    "STOPWORDS = set(stopwords.words('english'))"
   ]
  },
  {
   "cell_type": "markdown",
   "metadata": {},
   "source": [
    "Put the hyparameters at the top like this to make it easier to change and edit."
   ]
  },
  {
   "cell_type": "code",
   "execution_count": 6,
   "metadata": {},
   "outputs": [],
   "source": [
    "vocab_size = 5000\n",
    "embedding_dim = 64\n",
    "max_length = 200\n",
    "trunc_type = 'post'\n",
    "padding_type = 'post'\n",
    "oov_tok = '<OOV>'\n",
    "training_portion = .8"
   ]
  },
  {
   "cell_type": "markdown",
   "metadata": {},
   "source": [
    "embedding_dim means no. of LSTM cells\n",
    "OOV out of vocabalary"
   ]
  },
  {
   "cell_type": "markdown",
   "metadata": {},
   "source": [
    "First, let's define two lists that containing articles and labels. In the meantime, we remove stopwords."
   ]
  },
  {
   "cell_type": "code",
   "execution_count": 8,
   "metadata": {},
   "outputs": [
    {
     "name": "stdout",
     "output_type": "stream",
     "text": [
      "2225\n",
      "2225\n"
     ]
    }
   ],
   "source": [
    "articles = []\n",
    "labels = []\n",
    "\n",
    "with open(\"bbc-text.csv\", 'r') as csvfile:\n",
    "    reader = csv.reader(csvfile, delimiter=',')\n",
    "    next(reader)\n",
    "    for row in reader:\n",
    "        labels.append(row[0])\n",
    "        article = row[1]\n",
    "        for word in STOPWORDS:\n",
    "            token = ' ' + word + ' '\n",
    "            article = article.replace(token, ' ')\n",
    "            article = article.replace(' ', ' ')\n",
    "        articles.append(article)\n",
    "print(len(labels))\n",
    "print(len(articles))"
   ]
  },
  {
   "cell_type": "code",
   "execution_count": 9,
   "metadata": {},
   "outputs": [
    {
     "data": {
      "text/plain": [
       "['tech',\n",
       " 'business',\n",
       " 'sport',\n",
       " 'sport',\n",
       " 'entertainment',\n",
       " 'politics',\n",
       " 'politics',\n",
       " 'sport',\n",
       " 'sport',\n",
       " 'entertainment',\n",
       " 'entertainment',\n",
       " 'business',\n",
       " 'business',\n",
       " 'politics',\n",
       " 'sport',\n",
       " 'business',\n",
       " 'politics',\n",
       " 'sport',\n",
       " 'business',\n",
       " 'tech',\n",
       " 'tech',\n",
       " 'tech',\n",
       " 'sport',\n",
       " 'sport',\n",
       " 'tech',\n",
       " 'sport',\n",
       " 'entertainment',\n",
       " 'tech',\n",
       " 'politics',\n",
       " 'entertainment',\n",
       " 'politics',\n",
       " 'tech',\n",
       " 'entertainment',\n",
       " 'entertainment',\n",
       " 'business',\n",
       " 'politics',\n",
       " 'tech',\n",
       " 'entertainment',\n",
       " 'politics',\n",
       " 'business',\n",
       " 'politics',\n",
       " 'sport',\n",
       " 'business',\n",
       " 'sport',\n",
       " 'tech',\n",
       " 'entertainment',\n",
       " 'politics',\n",
       " 'politics',\n",
       " 'politics',\n",
       " 'business',\n",
       " 'sport',\n",
       " 'politics',\n",
       " 'business',\n",
       " 'business',\n",
       " 'sport',\n",
       " 'politics',\n",
       " 'business',\n",
       " 'sport',\n",
       " 'sport',\n",
       " 'business',\n",
       " 'business',\n",
       " 'sport',\n",
       " 'business',\n",
       " 'sport',\n",
       " 'business',\n",
       " 'tech',\n",
       " 'business',\n",
       " 'entertainment',\n",
       " 'tech',\n",
       " 'business',\n",
       " 'politics',\n",
       " 'business',\n",
       " 'politics',\n",
       " 'sport',\n",
       " 'business',\n",
       " 'tech',\n",
       " 'business',\n",
       " 'sport',\n",
       " 'sport',\n",
       " 'business',\n",
       " 'business',\n",
       " 'sport',\n",
       " 'politics',\n",
       " 'business',\n",
       " 'entertainment',\n",
       " 'politics',\n",
       " 'politics',\n",
       " 'business',\n",
       " 'entertainment',\n",
       " 'business',\n",
       " 'sport',\n",
       " 'sport',\n",
       " 'politics',\n",
       " 'sport',\n",
       " 'politics',\n",
       " 'sport',\n",
       " 'business',\n",
       " 'sport',\n",
       " 'business',\n",
       " 'entertainment',\n",
       " 'entertainment',\n",
       " 'sport',\n",
       " 'business',\n",
       " 'politics',\n",
       " 'politics',\n",
       " 'tech',\n",
       " 'sport',\n",
       " 'entertainment',\n",
       " 'sport',\n",
       " 'tech',\n",
       " 'business',\n",
       " 'entertainment',\n",
       " 'sport',\n",
       " 'entertainment',\n",
       " 'sport',\n",
       " 'entertainment',\n",
       " 'entertainment',\n",
       " 'politics',\n",
       " 'sport',\n",
       " 'sport',\n",
       " 'entertainment',\n",
       " 'politics',\n",
       " 'business',\n",
       " 'tech',\n",
       " 'business',\n",
       " 'business',\n",
       " 'tech',\n",
       " 'sport',\n",
       " 'politics',\n",
       " 'sport',\n",
       " 'tech',\n",
       " 'entertainment',\n",
       " 'sport',\n",
       " 'business',\n",
       " 'business',\n",
       " 'tech',\n",
       " 'entertainment',\n",
       " 'tech',\n",
       " 'sport',\n",
       " 'business',\n",
       " 'business',\n",
       " 'business',\n",
       " 'tech',\n",
       " 'sport',\n",
       " 'tech',\n",
       " 'business',\n",
       " 'sport',\n",
       " 'entertainment',\n",
       " 'sport',\n",
       " 'tech',\n",
       " 'sport',\n",
       " 'tech',\n",
       " 'politics',\n",
       " 'business',\n",
       " 'tech',\n",
       " 'entertainment',\n",
       " 'sport',\n",
       " 'business',\n",
       " 'politics',\n",
       " 'business',\n",
       " 'entertainment',\n",
       " 'politics',\n",
       " 'politics',\n",
       " 'entertainment',\n",
       " 'politics',\n",
       " 'business',\n",
       " 'entertainment',\n",
       " 'politics',\n",
       " 'politics',\n",
       " 'entertainment',\n",
       " 'politics',\n",
       " 'sport',\n",
       " 'business',\n",
       " 'politics',\n",
       " 'politics',\n",
       " 'business',\n",
       " 'entertainment',\n",
       " 'sport',\n",
       " 'business',\n",
       " 'business',\n",
       " 'sport',\n",
       " 'tech',\n",
       " 'sport',\n",
       " 'tech',\n",
       " 'tech',\n",
       " 'sport',\n",
       " 'business',\n",
       " 'sport',\n",
       " 'politics',\n",
       " 'entertainment',\n",
       " 'politics',\n",
       " 'business',\n",
       " 'politics',\n",
       " 'business',\n",
       " 'tech',\n",
       " 'politics',\n",
       " 'entertainment',\n",
       " 'politics',\n",
       " 'tech',\n",
       " 'business',\n",
       " 'sport',\n",
       " 'business',\n",
       " 'sport',\n",
       " 'tech',\n",
       " 'entertainment',\n",
       " 'business',\n",
       " 'politics',\n",
       " 'politics',\n",
       " 'entertainment',\n",
       " 'sport',\n",
       " 'entertainment',\n",
       " 'politics',\n",
       " 'sport',\n",
       " 'entertainment',\n",
       " 'sport',\n",
       " 'sport',\n",
       " 'entertainment',\n",
       " 'sport',\n",
       " 'politics',\n",
       " 'politics',\n",
       " 'entertainment',\n",
       " 'tech',\n",
       " 'sport',\n",
       " 'politics',\n",
       " 'business',\n",
       " 'entertainment',\n",
       " 'tech',\n",
       " 'sport',\n",
       " 'tech',\n",
       " 'sport',\n",
       " 'entertainment',\n",
       " 'politics',\n",
       " 'sport',\n",
       " 'entertainment',\n",
       " 'tech',\n",
       " 'business',\n",
       " 'tech',\n",
       " 'business',\n",
       " 'business',\n",
       " 'tech',\n",
       " 'business',\n",
       " 'sport',\n",
       " 'business',\n",
       " 'sport',\n",
       " 'business',\n",
       " 'sport',\n",
       " 'entertainment',\n",
       " 'business',\n",
       " 'business',\n",
       " 'entertainment',\n",
       " 'sport',\n",
       " 'sport',\n",
       " 'politics',\n",
       " 'tech',\n",
       " 'politics',\n",
       " 'politics',\n",
       " 'politics',\n",
       " 'tech',\n",
       " 'sport',\n",
       " 'tech',\n",
       " 'politics',\n",
       " 'business',\n",
       " 'tech',\n",
       " 'entertainment',\n",
       " 'tech',\n",
       " 'sport',\n",
       " 'sport',\n",
       " 'business',\n",
       " 'business',\n",
       " 'politics',\n",
       " 'business',\n",
       " 'tech',\n",
       " 'sport',\n",
       " 'entertainment',\n",
       " 'sport',\n",
       " 'politics',\n",
       " 'tech',\n",
       " 'entertainment',\n",
       " 'business',\n",
       " 'sport',\n",
       " 'entertainment',\n",
       " 'sport',\n",
       " 'tech',\n",
       " 'politics',\n",
       " 'tech',\n",
       " 'business',\n",
       " 'business',\n",
       " 'politics',\n",
       " 'politics',\n",
       " 'sport',\n",
       " 'business',\n",
       " 'tech',\n",
       " 'entertainment',\n",
       " 'politics',\n",
       " 'tech',\n",
       " 'business',\n",
       " 'entertainment',\n",
       " 'sport',\n",
       " 'entertainment',\n",
       " 'sport',\n",
       " 'entertainment',\n",
       " 'politics',\n",
       " 'business',\n",
       " 'sport',\n",
       " 'business',\n",
       " 'sport',\n",
       " 'sport',\n",
       " 'entertainment',\n",
       " 'sport',\n",
       " 'politics',\n",
       " 'politics',\n",
       " 'business',\n",
       " 'entertainment',\n",
       " 'tech',\n",
       " 'business',\n",
       " 'sport',\n",
       " 'business',\n",
       " 'entertainment',\n",
       " 'business',\n",
       " 'business',\n",
       " 'business',\n",
       " 'politics',\n",
       " 'business',\n",
       " 'politics',\n",
       " 'entertainment',\n",
       " 'entertainment',\n",
       " 'business',\n",
       " 'sport',\n",
       " 'business',\n",
       " 'politics',\n",
       " 'business',\n",
       " 'tech',\n",
       " 'entertainment',\n",
       " 'business',\n",
       " 'sport',\n",
       " 'sport',\n",
       " 'entertainment',\n",
       " 'business',\n",
       " 'business',\n",
       " 'politics',\n",
       " 'tech',\n",
       " 'entertainment',\n",
       " 'tech',\n",
       " 'politics',\n",
       " 'business',\n",
       " 'sport',\n",
       " 'politics',\n",
       " 'business',\n",
       " 'entertainment',\n",
       " 'tech',\n",
       " 'entertainment',\n",
       " 'tech',\n",
       " 'politics',\n",
       " 'sport',\n",
       " 'entertainment',\n",
       " 'business',\n",
       " 'politics',\n",
       " 'business',\n",
       " 'business',\n",
       " 'politics',\n",
       " 'sport',\n",
       " 'tech',\n",
       " 'business',\n",
       " 'business',\n",
       " 'entertainment',\n",
       " 'entertainment',\n",
       " 'tech',\n",
       " 'sport',\n",
       " 'business',\n",
       " 'entertainment',\n",
       " 'tech',\n",
       " 'tech',\n",
       " 'entertainment',\n",
       " 'entertainment',\n",
       " 'entertainment',\n",
       " 'politics',\n",
       " 'sport',\n",
       " 'politics',\n",
       " 'tech',\n",
       " 'business',\n",
       " 'entertainment',\n",
       " 'politics',\n",
       " 'business',\n",
       " 'entertainment',\n",
       " 'politics',\n",
       " 'politics',\n",
       " 'sport',\n",
       " 'sport',\n",
       " 'business',\n",
       " 'politics',\n",
       " 'entertainment',\n",
       " 'business',\n",
       " 'sport',\n",
       " 'business',\n",
       " 'business',\n",
       " 'sport',\n",
       " 'business',\n",
       " 'politics',\n",
       " 'politics',\n",
       " 'politics',\n",
       " 'sport',\n",
       " 'tech',\n",
       " 'tech',\n",
       " 'business',\n",
       " 'tech',\n",
       " 'sport',\n",
       " 'entertainment',\n",
       " 'business',\n",
       " 'politics',\n",
       " 'business',\n",
       " 'entertainment',\n",
       " 'business',\n",
       " 'politics',\n",
       " 'entertainment',\n",
       " 'politics',\n",
       " 'business',\n",
       " 'tech',\n",
       " 'business',\n",
       " 'sport',\n",
       " 'sport',\n",
       " 'business',\n",
       " 'sport',\n",
       " 'sport',\n",
       " 'entertainment',\n",
       " 'sport',\n",
       " 'sport',\n",
       " 'sport',\n",
       " 'tech',\n",
       " 'business',\n",
       " 'business',\n",
       " 'business',\n",
       " 'politics',\n",
       " 'sport',\n",
       " 'sport',\n",
       " 'business',\n",
       " 'tech',\n",
       " 'business',\n",
       " 'politics',\n",
       " 'sport',\n",
       " 'politics',\n",
       " 'tech',\n",
       " 'business',\n",
       " 'sport',\n",
       " 'entertainment',\n",
       " 'business',\n",
       " 'politics',\n",
       " 'tech',\n",
       " 'business',\n",
       " 'sport',\n",
       " 'business',\n",
       " 'politics',\n",
       " 'business',\n",
       " 'business',\n",
       " 'sport',\n",
       " 'entertainment',\n",
       " 'tech',\n",
       " 'politics',\n",
       " 'tech',\n",
       " 'business',\n",
       " 'sport',\n",
       " 'business',\n",
       " 'entertainment',\n",
       " 'tech',\n",
       " 'tech',\n",
       " 'business',\n",
       " 'sport',\n",
       " 'sport',\n",
       " 'entertainment',\n",
       " 'politics',\n",
       " 'politics',\n",
       " 'politics',\n",
       " 'sport',\n",
       " 'politics',\n",
       " 'tech',\n",
       " 'tech',\n",
       " 'entertainment',\n",
       " 'politics',\n",
       " 'tech',\n",
       " 'entertainment',\n",
       " 'business',\n",
       " 'sport',\n",
       " 'sport',\n",
       " 'tech',\n",
       " 'business',\n",
       " 'sport',\n",
       " 'sport',\n",
       " 'politics',\n",
       " 'sport',\n",
       " 'sport',\n",
       " 'business',\n",
       " 'sport',\n",
       " 'entertainment',\n",
       " 'tech',\n",
       " 'politics',\n",
       " 'sport',\n",
       " 'politics',\n",
       " 'tech',\n",
       " 'business',\n",
       " 'business',\n",
       " 'business',\n",
       " 'tech',\n",
       " 'business',\n",
       " 'business',\n",
       " 'sport',\n",
       " 'sport',\n",
       " 'sport',\n",
       " 'sport',\n",
       " 'business',\n",
       " 'tech',\n",
       " 'entertainment',\n",
       " 'sport',\n",
       " 'sport',\n",
       " 'tech',\n",
       " 'business',\n",
       " 'tech',\n",
       " 'entertainment',\n",
       " 'politics',\n",
       " 'sport',\n",
       " 'business',\n",
       " 'politics',\n",
       " 'business',\n",
       " 'tech',\n",
       " 'tech',\n",
       " 'politics',\n",
       " 'tech',\n",
       " 'business',\n",
       " 'sport',\n",
       " 'business',\n",
       " 'entertainment',\n",
       " 'sport',\n",
       " 'politics',\n",
       " 'entertainment',\n",
       " 'sport',\n",
       " 'sport',\n",
       " 'politics',\n",
       " 'tech',\n",
       " 'entertainment',\n",
       " 'tech',\n",
       " 'sport',\n",
       " 'politics',\n",
       " 'business',\n",
       " 'entertainment',\n",
       " 'politics',\n",
       " 'business',\n",
       " 'entertainment',\n",
       " 'sport',\n",
       " 'sport',\n",
       " 'tech',\n",
       " 'politics',\n",
       " 'entertainment',\n",
       " 'politics',\n",
       " 'entertainment',\n",
       " 'politics',\n",
       " 'tech',\n",
       " 'politics',\n",
       " 'entertainment',\n",
       " 'sport',\n",
       " 'business',\n",
       " 'sport',\n",
       " 'entertainment',\n",
       " 'sport',\n",
       " 'entertainment',\n",
       " 'tech',\n",
       " 'business',\n",
       " 'sport',\n",
       " 'politics',\n",
       " 'entertainment',\n",
       " 'politics',\n",
       " 'entertainment',\n",
       " 'entertainment',\n",
       " 'entertainment',\n",
       " 'politics',\n",
       " 'entertainment',\n",
       " 'tech',\n",
       " 'politics',\n",
       " 'tech',\n",
       " 'tech',\n",
       " 'sport',\n",
       " 'sport',\n",
       " 'tech',\n",
       " 'tech',\n",
       " 'sport',\n",
       " 'entertainment',\n",
       " 'entertainment',\n",
       " 'sport',\n",
       " 'tech',\n",
       " 'entertainment',\n",
       " 'sport',\n",
       " 'sport',\n",
       " 'tech',\n",
       " 'business',\n",
       " 'politics',\n",
       " 'tech',\n",
       " 'business',\n",
       " 'sport',\n",
       " 'entertainment',\n",
       " 'sport',\n",
       " 'entertainment',\n",
       " 'politics',\n",
       " 'tech',\n",
       " 'entertainment',\n",
       " 'entertainment',\n",
       " 'business',\n",
       " 'entertainment',\n",
       " 'entertainment',\n",
       " 'sport',\n",
       " 'tech',\n",
       " 'tech',\n",
       " 'politics',\n",
       " 'sport',\n",
       " 'tech',\n",
       " 'sport',\n",
       " 'politics',\n",
       " 'politics',\n",
       " 'entertainment',\n",
       " 'tech',\n",
       " 'business',\n",
       " 'tech',\n",
       " 'tech',\n",
       " 'tech',\n",
       " 'business',\n",
       " 'politics',\n",
       " 'politics',\n",
       " 'sport',\n",
       " 'tech',\n",
       " 'business',\n",
       " 'business',\n",
       " 'entertainment',\n",
       " 'entertainment',\n",
       " 'sport',\n",
       " 'tech',\n",
       " 'business',\n",
       " 'tech',\n",
       " 'entertainment',\n",
       " 'sport',\n",
       " 'tech',\n",
       " 'politics',\n",
       " 'tech',\n",
       " 'politics',\n",
       " 'business',\n",
       " 'politics',\n",
       " 'politics',\n",
       " 'business',\n",
       " 'sport',\n",
       " 'tech',\n",
       " 'sport',\n",
       " 'tech',\n",
       " 'politics',\n",
       " 'entertainment',\n",
       " 'tech',\n",
       " 'sport',\n",
       " 'entertainment',\n",
       " 'tech',\n",
       " 'sport',\n",
       " 'politics',\n",
       " 'entertainment',\n",
       " 'sport',\n",
       " 'tech',\n",
       " 'sport',\n",
       " 'sport',\n",
       " 'politics',\n",
       " 'entertainment',\n",
       " 'business',\n",
       " 'politics',\n",
       " 'entertainment',\n",
       " 'business',\n",
       " 'business',\n",
       " 'tech',\n",
       " 'business',\n",
       " 'entertainment',\n",
       " 'tech',\n",
       " 'sport',\n",
       " 'tech',\n",
       " 'politics',\n",
       " 'tech',\n",
       " 'politics',\n",
       " 'business',\n",
       " 'politics',\n",
       " 'entertainment',\n",
       " 'sport',\n",
       " 'business',\n",
       " 'business',\n",
       " 'business',\n",
       " 'entertainment',\n",
       " 'sport',\n",
       " 'business',\n",
       " 'entertainment',\n",
       " 'entertainment',\n",
       " 'sport',\n",
       " 'entertainment',\n",
       " 'politics',\n",
       " 'politics',\n",
       " 'politics',\n",
       " 'sport',\n",
       " 'sport',\n",
       " 'sport',\n",
       " 'tech',\n",
       " 'politics',\n",
       " 'sport',\n",
       " 'politics',\n",
       " 'politics',\n",
       " 'tech',\n",
       " 'politics',\n",
       " 'sport',\n",
       " 'business',\n",
       " 'entertainment',\n",
       " 'sport',\n",
       " 'business',\n",
       " 'business',\n",
       " 'tech',\n",
       " 'business',\n",
       " 'entertainment',\n",
       " 'entertainment',\n",
       " 'entertainment',\n",
       " 'business',\n",
       " 'entertainment',\n",
       " 'entertainment',\n",
       " 'politics',\n",
       " 'tech',\n",
       " 'business',\n",
       " 'sport',\n",
       " 'tech',\n",
       " 'sport',\n",
       " 'sport',\n",
       " 'politics',\n",
       " 'business',\n",
       " 'sport',\n",
       " 'tech',\n",
       " 'business',\n",
       " 'sport',\n",
       " 'tech',\n",
       " 'sport',\n",
       " 'sport',\n",
       " 'entertainment',\n",
       " 'sport',\n",
       " 'business',\n",
       " 'sport',\n",
       " 'business',\n",
       " 'tech',\n",
       " 'politics',\n",
       " 'tech',\n",
       " 'business',\n",
       " 'sport',\n",
       " 'sport',\n",
       " 'business',\n",
       " 'business',\n",
       " 'business',\n",
       " 'business',\n",
       " 'politics',\n",
       " 'sport',\n",
       " 'business',\n",
       " 'tech',\n",
       " 'business',\n",
       " 'sport',\n",
       " 'politics',\n",
       " 'business',\n",
       " 'tech',\n",
       " 'business',\n",
       " 'sport',\n",
       " 'business',\n",
       " 'politics',\n",
       " 'entertainment',\n",
       " 'sport',\n",
       " 'business',\n",
       " 'politics',\n",
       " 'business',\n",
       " 'entertainment',\n",
       " 'business',\n",
       " 'business',\n",
       " 'business',\n",
       " 'sport',\n",
       " 'politics',\n",
       " 'entertainment',\n",
       " 'sport',\n",
       " 'politics',\n",
       " 'sport',\n",
       " 'politics',\n",
       " 'politics',\n",
       " 'business',\n",
       " 'business',\n",
       " 'sport',\n",
       " 'tech',\n",
       " 'entertainment',\n",
       " 'sport',\n",
       " 'entertainment',\n",
       " 'business',\n",
       " 'business',\n",
       " 'business',\n",
       " 'tech',\n",
       " 'sport',\n",
       " 'tech',\n",
       " 'politics',\n",
       " 'tech',\n",
       " 'tech',\n",
       " 'tech',\n",
       " 'sport',\n",
       " 'tech',\n",
       " 'tech',\n",
       " 'entertainment',\n",
       " 'entertainment',\n",
       " 'tech',\n",
       " 'sport',\n",
       " 'entertainment',\n",
       " 'tech',\n",
       " 'sport',\n",
       " 'sport',\n",
       " 'business',\n",
       " 'entertainment',\n",
       " 'tech',\n",
       " 'business',\n",
       " 'sport',\n",
       " 'business',\n",
       " 'politics',\n",
       " 'business',\n",
       " 'entertainment',\n",
       " 'tech',\n",
       " 'business',\n",
       " 'politics',\n",
       " 'business',\n",
       " 'tech',\n",
       " 'sport',\n",
       " 'business',\n",
       " 'entertainment',\n",
       " 'business',\n",
       " 'politics',\n",
       " 'sport',\n",
       " 'entertainment',\n",
       " 'politics',\n",
       " 'sport',\n",
       " 'business',\n",
       " 'sport',\n",
       " 'politics',\n",
       " 'politics',\n",
       " 'sport',\n",
       " 'entertainment',\n",
       " 'entertainment',\n",
       " 'business',\n",
       " 'business',\n",
       " 'sport',\n",
       " 'tech',\n",
       " 'tech',\n",
       " 'sport',\n",
       " 'entertainment',\n",
       " 'tech',\n",
       " 'tech',\n",
       " 'business',\n",
       " 'sport',\n",
       " 'entertainment',\n",
       " 'tech',\n",
       " 'sport',\n",
       " 'sport',\n",
       " 'business',\n",
       " 'entertainment',\n",
       " 'business',\n",
       " 'business',\n",
       " 'business',\n",
       " 'entertainment',\n",
       " 'sport',\n",
       " 'entertainment',\n",
       " 'tech',\n",
       " 'tech',\n",
       " 'tech',\n",
       " 'politics',\n",
       " 'tech',\n",
       " 'tech',\n",
       " 'entertainment',\n",
       " 'entertainment',\n",
       " 'sport',\n",
       " 'sport',\n",
       " 'politics',\n",
       " 'business',\n",
       " 'entertainment',\n",
       " 'sport',\n",
       " 'politics',\n",
       " 'entertainment',\n",
       " 'tech',\n",
       " 'politics',\n",
       " 'tech',\n",
       " 'tech',\n",
       " 'business',\n",
       " 'entertainment',\n",
       " 'politics',\n",
       " 'tech',\n",
       " 'politics',\n",
       " 'politics',\n",
       " 'sport',\n",
       " 'politics',\n",
       " 'politics',\n",
       " 'entertainment',\n",
       " 'tech',\n",
       " 'sport',\n",
       " 'politics',\n",
       " 'sport',\n",
       " 'entertainment',\n",
       " 'politics',\n",
       " 'business',\n",
       " 'business',\n",
       " 'politics',\n",
       " 'sport',\n",
       " 'sport',\n",
       " 'sport',\n",
       " 'entertainment',\n",
       " 'tech',\n",
       " 'tech',\n",
       " 'business',\n",
       " 'entertainment',\n",
       " 'sport',\n",
       " 'politics',\n",
       " 'tech',\n",
       " 'politics',\n",
       " 'entertainment',\n",
       " 'tech',\n",
       " 'tech',\n",
       " 'business',\n",
       " 'business',\n",
       " 'sport',\n",
       " 'business',\n",
       " 'business',\n",
       " 'tech',\n",
       " 'politics',\n",
       " 'entertainment',\n",
       " 'business',\n",
       " 'business',\n",
       " 'business',\n",
       " 'business',\n",
       " 'business',\n",
       " 'tech',\n",
       " 'sport',\n",
       " 'politics',\n",
       " 'tech',\n",
       " 'tech',\n",
       " 'business',\n",
       " 'business',\n",
       " 'entertainment',\n",
       " 'politics',\n",
       " 'entertainment',\n",
       " 'sport',\n",
       " 'tech',\n",
       " 'sport',\n",
       " 'entertainment',\n",
       " 'sport',\n",
       " 'tech',\n",
       " 'sport',\n",
       " 'business',\n",
       " 'sport',\n",
       " 'politics',\n",
       " 'politics',\n",
       " 'entertainment',\n",
       " 'business',\n",
       " 'sport',\n",
       " 'politics',\n",
       " 'politics',\n",
       " 'sport',\n",
       " 'entertainment',\n",
       " 'politics',\n",
       " 'business',\n",
       " 'tech',\n",
       " 'sport',\n",
       " 'business',\n",
       " 'business',\n",
       " 'business',\n",
       " 'entertainment',\n",
       " 'entertainment',\n",
       " 'tech',\n",
       " 'tech',\n",
       " 'business',\n",
       " 'business',\n",
       " 'entertainment',\n",
       " 'sport',\n",
       " 'business',\n",
       " 'entertainment',\n",
       " 'tech',\n",
       " 'tech',\n",
       " 'business',\n",
       " 'business',\n",
       " 'sport',\n",
       " 'sport',\n",
       " 'sport',\n",
       " 'politics',\n",
       " 'politics',\n",
       " 'sport',\n",
       " 'politics',\n",
       " 'sport',\n",
       " 'business',\n",
       " 'entertainment',\n",
       " 'sport',\n",
       " 'tech',\n",
       " 'entertainment',\n",
       " 'sport',\n",
       " 'sport',\n",
       " 'business',\n",
       " 'business',\n",
       " 'tech',\n",
       " 'tech',\n",
       " 'sport',\n",
       " 'entertainment',\n",
       " 'sport',\n",
       " 'entertainment',\n",
       " 'sport',\n",
       " 'entertainment',\n",
       " ...]"
      ]
     },
     "execution_count": 9,
     "metadata": {},
     "output_type": "execute_result"
    }
   ],
   "source": [
    "labels"
   ]
  },
  {
   "cell_type": "markdown",
   "metadata": {},
   "source": [
    "There are only 2,225 articles in the data. Then we split into training set and validation set, according to the parameter we set earlier, 80% for training, 20% for validation."
   ]
  },
  {
   "cell_type": "code",
   "execution_count": 10,
   "metadata": {},
   "outputs": [
    {
     "name": "stdout",
     "output_type": "stream",
     "text": [
      "1780\n",
      "1780\n",
      "1780\n",
      "445\n",
      "445\n"
     ]
    }
   ],
   "source": [
    "train_size = int(len(articles) * training_portion)\n",
    "\n",
    "train_articles = articles[0: train_size]\n",
    "train_labels = labels[0: train_size]\n",
    "\n",
    "validation_articles = articles[train_size:]\n",
    "validation_labels = labels[train_size:]\n",
    "\n",
    "print(train_size)\n",
    "print(len(train_articles))\n",
    "print(len(train_labels))\n",
    "print(len(validation_articles))\n",
    "print(len(validation_labels))"
   ]
  },
  {
   "cell_type": "markdown",
   "metadata": {},
   "source": [
    "Tokenizer does all the heavy lifting for us. In our articles that it was tokenizing, it will take 5,000 most common words. oov_token is to put a special value in when an unseen word is encountered. This means I want \"OOV\" in bracket to be used to for words that are not in the word index. \"fit_on_text\" will go through all the text and create dictionary like this:"
   ]
  },
  {
   "cell_type": "code",
   "execution_count": 11,
   "metadata": {},
   "outputs": [],
   "source": [
    "tokenizer = Tokenizer(num_words = vocab_size, oov_token=oov_tok)\n",
    "tokenizer.fit_on_texts(train_articles)\n",
    "word_index = tokenizer.word_index"
   ]
  },
  {
   "cell_type": "markdown",
   "metadata": {},
   "source": [
    "You can see that \"OOV\" in bracket is number 1, \"said\" is number 2, \"mr\" is number 3, and so on."
   ]
  },
  {
   "cell_type": "code",
   "execution_count": 9,
   "metadata": {
    "scrolled": false
   },
   "outputs": [
    {
     "data": {
      "text/plain": [
       "{'<OOV>': 1,\n",
       " 'said': 2,\n",
       " 'mr': 3,\n",
       " 'would': 4,\n",
       " 'year': 5,\n",
       " 'also': 6,\n",
       " 'people': 7,\n",
       " 'new': 8,\n",
       " 'us': 9,\n",
       " 'one': 10}"
      ]
     },
     "execution_count": 9,
     "metadata": {},
     "output_type": "execute_result"
    }
   ],
   "source": [
    "dict(list(word_index.items())[0:10])"
   ]
  },
  {
   "cell_type": "markdown",
   "metadata": {},
   "source": [
    "This process cleans up our text, lowercase, and remove punctuations."
   ]
  },
  {
   "cell_type": "markdown",
   "metadata": {},
   "source": [
    "After tokenization, the next step is to turn thoes tokens into lists of sequence."
   ]
  },
  {
   "cell_type": "code",
   "execution_count": 12,
   "metadata": {},
   "outputs": [],
   "source": [
    "train_sequences = tokenizer.texts_to_sequences(train_articles)"
   ]
  },
  {
   "cell_type": "markdown",
   "metadata": {},
   "source": [
    "This is the 11th article in the training data that has been turned into sequences."
   ]
  },
  {
   "cell_type": "code",
   "execution_count": 13,
   "metadata": {
    "scrolled": false
   },
   "outputs": [
    {
     "name": "stdout",
     "output_type": "stream",
     "text": [
      "[2432, 1, 225, 4994, 22, 641, 587, 225, 4994, 1, 1, 1662, 1, 1, 2432, 22, 564, 1, 1, 140, 278, 1, 140, 278, 796, 823, 662, 2308, 1, 1144, 1693, 1, 1720, 4995, 1, 1, 1, 1, 1, 4737, 1, 1, 122, 4514, 1, 2, 2874, 1505, 352, 4738, 1, 52, 341, 1, 352, 2172, 3961, 41, 22, 3795, 1, 1, 1, 1, 542, 1, 1, 1, 835, 631, 2367, 347, 4739, 1, 365, 22, 1, 787, 2368, 1, 4301, 138, 10, 1, 3665, 682, 3532, 1, 22, 1, 414, 823, 662, 1, 90, 13, 633, 1, 225, 4994, 1, 599, 1, 1693, 1021, 1, 4996, 808, 1864, 117, 1, 1, 1, 2974, 22, 1, 99, 278, 1, 1607, 4997, 542, 492, 1, 1443, 4740, 779, 1320, 1, 1861, 10, 33, 641, 319, 1, 62, 478, 564, 301, 1506, 22, 479, 1, 1, 1665, 1, 797, 1, 3067, 1, 1364, 6, 1, 2432, 564, 22, 2971, 4734, 1, 1, 1, 1, 1, 850, 39, 1825, 675, 297, 26, 979, 1, 882, 22, 361, 22, 13, 301, 1506, 1342, 374, 20, 63, 883, 1096, 4302, 247]\n"
     ]
    }
   ],
   "source": [
    "print(train_sequences[10])"
   ]
  },
  {
   "cell_type": "markdown",
   "metadata": {},
   "source": [
    "When we train neural networks for NLP, we need sequences to be in the same size, that's why we use padding. Our max_length is 200, so we use pad_sequences to make all of our articles the same length which is 200 in my example. That's why you see that the 1st article was 426 in length, becomes 200, the 2nd article was 192 in length, becomes 200, and so on."
   ]
  },
  {
   "cell_type": "code",
   "execution_count": 16,
   "metadata": {},
   "outputs": [],
   "source": [
    "train_padded = pad_sequences(train_sequences, maxlen=max_length, padding=padding_type, truncating=trunc_type)"
   ]
  },
  {
   "cell_type": "code",
   "execution_count": 17,
   "metadata": {},
   "outputs": [
    {
     "name": "stdout",
     "output_type": "stream",
     "text": [
      "425\n",
      "200\n",
      "192\n",
      "200\n",
      "186\n",
      "200\n"
     ]
    }
   ],
   "source": [
    "print(len(train_sequences[0]))\n",
    "print(len(train_padded[0]))\n",
    "\n",
    "print(len(train_sequences[1]))\n",
    "print(len(train_padded[1]))\n",
    "\n",
    "print(len(train_sequences[10]))\n",
    "print(len(train_padded[10]))"
   ]
  },
  {
   "cell_type": "markdown",
   "metadata": {},
   "source": [
    "In addtion, there is padding type and truncating type, there are all \"post\". Means for example, for the 11th article, it was 186 in length, we padded to 200, and we padded at the end, add 14 zeros."
   ]
  },
  {
   "cell_type": "code",
   "execution_count": 14,
   "metadata": {},
   "outputs": [
    {
     "name": "stdout",
     "output_type": "stream",
     "text": [
      "[2431, 1, 225, 4995, 22, 641, 587, 225, 4995, 1, 1, 1662, 1, 1, 2431, 22, 565, 1, 1, 140, 278, 1, 140, 278, 796, 823, 662, 2307, 1, 1144, 1693, 1, 1721, 4996, 1, 1, 1, 1, 1, 4738, 1, 1, 122, 4514, 1, 2, 2874, 1505, 352, 4739, 1, 52, 341, 1, 352, 2172, 3961, 41, 22, 3795, 1, 1, 1, 1, 543, 1, 1, 1, 835, 631, 2366, 347, 4740, 1, 365, 22, 1, 787, 2367, 1, 4302, 138, 10, 1, 3666, 682, 3531, 1, 22, 1, 414, 823, 662, 1, 90, 13, 633, 1, 225, 4995, 1, 599, 1, 1693, 1021, 1, 4997, 807, 1864, 117, 1, 1, 1, 2974, 22, 1, 99, 278, 1, 1608, 4998, 543, 493, 1, 1444, 4741, 778, 1320, 1, 1861, 10, 33, 641, 319, 1, 62, 479, 565, 301, 1506, 22, 480, 1, 1, 1665, 1, 797, 1, 3066, 1, 1365, 6, 1, 2431, 565, 22, 2971, 4735, 1, 1, 1, 1, 1, 850, 39, 1825, 675, 297, 26, 979, 1, 882, 22, 361, 22, 13, 301, 1506, 1343, 374, 20, 63, 883, 1096, 4303, 247]\n"
     ]
    }
   ],
   "source": [
    "print(train_sequences[10])"
   ]
  },
  {
   "cell_type": "code",
   "execution_count": 18,
   "metadata": {},
   "outputs": [
    {
     "name": "stdout",
     "output_type": "stream",
     "text": [
      "[2432    1  225 4994   22  641  587  225 4994    1    1 1662    1    1\n",
      " 2432   22  564    1    1  140  278    1  140  278  796  823  662 2308\n",
      "    1 1144 1693    1 1720 4995    1    1    1    1    1 4737    1    1\n",
      "  122 4514    1    2 2874 1505  352 4738    1   52  341    1  352 2172\n",
      " 3961   41   22 3795    1    1    1    1  542    1    1    1  835  631\n",
      " 2367  347 4739    1  365   22    1  787 2368    1 4301  138   10    1\n",
      " 3665  682 3532    1   22    1  414  823  662    1   90   13  633    1\n",
      "  225 4994    1  599    1 1693 1021    1 4996  808 1864  117    1    1\n",
      "    1 2974   22    1   99  278    1 1607 4997  542  492    1 1443 4740\n",
      "  779 1320    1 1861   10   33  641  319    1   62  478  564  301 1506\n",
      "   22  479    1    1 1665    1  797    1 3067    1 1364    6    1 2432\n",
      "  564   22 2971 4734    1    1    1    1    1  850   39 1825  675  297\n",
      "   26  979    1  882   22  361   22   13  301 1506 1342  374   20   63\n",
      "  883 1096 4302  247    0    0    0    0    0    0    0    0    0    0\n",
      "    0    0    0    0]\n"
     ]
    }
   ],
   "source": [
    "print(train_padded[10])"
   ]
  },
  {
   "cell_type": "markdown",
   "metadata": {},
   "source": [
    "And for the 1st article, it was 426 in length, we truncated to 200, and we truncated at the end."
   ]
  },
  {
   "cell_type": "code",
   "execution_count": 19,
   "metadata": {},
   "outputs": [
    {
     "name": "stdout",
     "output_type": "stream",
     "text": [
      "[91, 160, 1141, 1106, 49, 979, 755, 1, 89, 1303, 4288, 129, 175, 3653, 1213, 1194, 1576, 42, 7, 893, 91, 1, 334, 85, 20, 14, 130, 3263, 1214, 2422, 569, 451, 1375, 58, 3379, 3522, 1660, 8, 921, 730, 10, 844, 1, 9, 598, 1577, 1107, 395, 1940, 1106, 731, 49, 537, 1398, 2011, 1622, 134, 249, 113, 2356, 795, 4979, 980, 584, 10, 3956, 3957, 921, 2563, 129, 344, 175, 3653, 1, 1, 39, 62, 2867, 28, 9, 4722, 18, 1304, 136, 416, 7, 143, 1423, 71, 4501, 436, 4980, 91, 1107, 77, 1, 82, 2012, 53, 1, 91, 6, 1008, 609, 89, 1303, 91, 1963, 131, 137, 420, 9, 2868, 38, 152, 1233, 89, 1303, 4723, 7, 436, 4980, 3154, 6, 2493, 1, 431, 1126, 1, 1424, 570, 1234, 1902, 1, 766, 9, 537, 1398, 2011, 134, 2068, 400, 845, 1964, 1600, 34, 1716, 2869, 1, 1, 2423, 244, 9, 2625, 82, 732, 6, 1172, 1195, 152, 720, 591, 1, 124, 28, 1304, 1689, 432, 83, 933, 115, 20, 14, 18, 3155, 1, 37, 1484, 1, 23, 37, 87, 335, 2357, 37, 467, 255, 1964, 1358, 328, 1, 299, 732, 1173, 18, 2870, 1716, 1, 294, 756, 1074, 395, 2013, 387, 431, 2013, 2, 1359, 1, 1716, 2166, 67, 1, 1, 1717, 249, 1661, 3060, 1174, 395, 41, 878, 246, 2793, 345, 53, 547, 400, 2, 1, 1, 655, 1360, 202, 91, 3958, 91, 90, 42, 7, 320, 395, 77, 893, 1, 91, 1106, 400, 537, 9, 845, 2423, 11, 38, 1, 995, 513, 483, 2069, 160, 571, 1, 128, 7, 320, 77, 893, 1215, 1126, 1463, 346, 54, 2214, 1216, 741, 92, 256, 274, 1019, 71, 623, 346, 2424, 756, 1214, 2358, 1718, 1, 3784, 3523, 1, 1126, 2013, 177, 371, 1399, 77, 53, 547, 105, 1141, 3, 1, 1047, 93, 2962, 1, 2626, 1, 102, 902, 440, 452, 2, 3, 1, 2871, 451, 1425, 43, 77, 429, 31, 8, 1019, 921, 1, 2563, 30, 1, 91, 1690, 879, 89, 1303, 91, 1963, 1, 30, 8, 1623, 1, 1, 4289, 1578, 4288, 656, 1, 3785, 1008, 571, 4290, 2867, 10, 880, 656, 58, 1, 1261, 1, 1, 91, 1552, 934, 4722, 1, 576, 4105, 10, 9, 235, 2011, 91, 134, 1, 95, 656, 3264, 1, 58, 519, 673, 2627, 3785, 4981, 3380, 483, 4724, 39, 4501, 1, 91, 1747, 673, 269, 116, 239, 2628, 354, 643, 58, 4106, 757, 3654, 4722, 146, 1, 400, 7, 71, 1748, 1107, 767, 910, 118, 584, 3381, 1316, 1577, 1, 1601, 7, 893, 77, 77]\n"
     ]
    }
   ],
   "source": [
    "print(train_sequences[0])"
   ]
  },
  {
   "cell_type": "code",
   "execution_count": 20,
   "metadata": {},
   "outputs": [
    {
     "name": "stdout",
     "output_type": "stream",
     "text": [
      "[  91  160 1141 1106   49  979  755    1   89 1303 4288  129  175 3653\n",
      " 1213 1194 1576   42    7  893   91    1  334   85   20   14  130 3263\n",
      " 1214 2422  569  451 1375   58 3379 3522 1660    8  921  730   10  844\n",
      "    1    9  598 1577 1107  395 1940 1106  731   49  537 1398 2011 1622\n",
      "  134  249  113 2356  795 4979  980  584   10 3956 3957  921 2563  129\n",
      "  344  175 3653    1    1   39   62 2867   28    9 4722   18 1304  136\n",
      "  416    7  143 1423   71 4501  436 4980   91 1107   77    1   82 2012\n",
      "   53    1   91    6 1008  609   89 1303   91 1963  131  137  420    9\n",
      " 2868   38  152 1233   89 1303 4723    7  436 4980 3154    6 2493    1\n",
      "  431 1126    1 1424  570 1234 1902    1  766    9  537 1398 2011  134\n",
      " 2068  400  845 1964 1600   34 1716 2869    1    1 2423  244    9 2625\n",
      "   82  732    6 1172 1195  152  720  591    1  124   28 1304 1689  432\n",
      "   83  933  115   20   14   18 3155    1   37 1484    1   23   37   87\n",
      "  335 2357   37  467  255 1964 1358  328    1  299  732 1173   18 2870\n",
      " 1716    1  294  756]\n"
     ]
    }
   ],
   "source": [
    "print(train_padded[0])"
   ]
  },
  {
   "cell_type": "markdown",
   "metadata": {},
   "source": [
    "Then we do the same for the validation sequences. Note that we should expect more out of vocabulary words from validation articles because word index were derived from the training articles."
   ]
  },
  {
   "cell_type": "code",
   "execution_count": 21,
   "metadata": {},
   "outputs": [
    {
     "name": "stdout",
     "output_type": "stream",
     "text": [
      "445\n",
      "(445, 200)\n"
     ]
    }
   ],
   "source": [
    "validation_sequences = tokenizer.texts_to_sequences(validation_articles)\n",
    "validation_padded = pad_sequences(validation_sequences, maxlen=max_length, padding=padding_type, truncating=trunc_type)\n",
    "\n",
    "print(len(validation_sequences))\n",
    "print(validation_padded.shape)"
   ]
  },
  {
   "cell_type": "markdown",
   "metadata": {},
   "source": [
    "Now we are going to look at the labels. because our labels are text, so we will tokenize them, when training, labels are expected to be numpy arrays. So we will turn list of labels into numpy arrays like so:"
   ]
  },
  {
   "cell_type": "code",
   "execution_count": 22,
   "metadata": {},
   "outputs": [
    {
     "name": "stdout",
     "output_type": "stream",
     "text": [
      "{'entertainment', 'politics', 'business', 'sport', 'tech'}\n"
     ]
    }
   ],
   "source": [
    "print(set(labels))"
   ]
  },
  {
   "cell_type": "code",
   "execution_count": 26,
   "metadata": {},
   "outputs": [],
   "source": [
    "label_tokenizer = Tokenizer()\n",
    "label_tokenizer.fit_on_texts(labels)\n",
    "\n",
    "training_label_seq = np.array(label_tokenizer.texts_to_sequences(train_labels))\n",
    "validation_label_seq = np.array(label_tokenizer.texts_to_sequences(validation_labels))"
   ]
  },
  {
   "cell_type": "code",
   "execution_count": 27,
   "metadata": {},
   "outputs": [
    {
     "name": "stdout",
     "output_type": "stream",
     "text": [
      "[4]\n",
      "[2]\n",
      "[1]\n",
      "(1780, 1)\n",
      "[5]\n",
      "[4]\n",
      "[3]\n",
      "(445, 1)\n"
     ]
    }
   ],
   "source": [
    "print(training_label_seq[0])\n",
    "print(training_label_seq[1])\n",
    "print(training_label_seq[2])\n",
    "print(training_label_seq.shape)\n",
    "\n",
    "print(validation_label_seq[0])\n",
    "print(validation_label_seq[1])\n",
    "print(validation_label_seq[2])\n",
    "print(validation_label_seq.shape)"
   ]
  },
  {
   "cell_type": "markdown",
   "metadata": {},
   "source": [
    "Before training deep neural network, we want to explore what our original article and article after padding look like. Running the following code, we explore the 11th article, we can see that some words become \"OOV\", because they did not make to the top 5,000."
   ]
  },
  {
   "cell_type": "code",
   "execution_count": 28,
   "metadata": {},
   "outputs": [
    {
     "name": "stdout",
     "output_type": "stream",
     "text": [
      "berlin <OOV> anti nazi film german movie anti nazi <OOV> <OOV> drawn <OOV> <OOV> berlin film festival <OOV> <OOV> final days <OOV> final days member white rose movement <OOV> 21 arrested <OOV> brother hans <OOV> <OOV> <OOV> <OOV> <OOV> tyranny <OOV> <OOV> director marc <OOV> said feeling responsibility keep legacy <OOV> going must <OOV> keep ideas alive added film drew <OOV> <OOV> <OOV> <OOV> trial <OOV> <OOV> <OOV> east germany secret police discovery <OOV> behind film <OOV> worked closely <OOV> relatives including one <OOV> sisters ensure historical <OOV> film <OOV> members white rose <OOV> group first started <OOV> anti nazi <OOV> summer <OOV> arrested dropped <OOV> munich university calling day <OOV> <OOV> <OOV> regime film <OOV> six days <OOV> arrest intense trial saw <OOV> initially deny charges ended <OOV> appearance one three german films <OOV> top prize festival south african film version <OOV> <OOV> opera <OOV> shot <OOV> town <OOV> language also <OOV> berlin festival film entitled u <OOV> <OOV> <OOV> <OOV> <OOV> story set performed 40 strong music theatre <OOV> debut film performance film first south african feature 25 years second nominated golden bear award ? ? ? ? ? ? ? ? ? ? ? ? ? ?\n",
      "---\n",
      "berlin cheers anti-nazi film german movie anti-nazi resistance heroine drawn loud applause berlin film festival.  sophie scholl - final days portrays final days member white rose movement. scholl  21  arrested beheaded brother  hans  1943 distributing leaflets condemning  abhorrent tyranny  adolf hitler. director marc rothemund said:  feeling responsibility keep legacy scholls going.   must somehow keep ideas alive   added.  film drew transcripts gestapo interrogations scholl trial preserved archive communist east germany secret police. discovery inspiration behind film rothemund  worked closely surviving relatives  including one scholl sisters  ensure historical accuracy film. scholl members white rose resistance group first started distributing anti-nazi leaflets summer 1942. arrested dropped leaflets munich university calling  day reckoning  adolf hitler regime. film focuses six days scholl arrest intense trial saw scholl initially deny charges ended defiant appearance. one three german films vying top prize festival.  south african film version bizet tragic opera carmen shot cape town xhosa language also premiered berlin festival. film entitled u-carmen ekhayelitsha carmen khayelitsha township story set. performed 40-strong music theatre troupe debut film performance. film first south african feature 25 years second nominated golden bear award.\n"
     ]
    }
   ],
   "source": [
    "reverse_word_index = dict([(value, key) for (key, value) in word_index.items()])\n",
    "\n",
    "def decode_article(text):\n",
    "    return ' '.join([reverse_word_index.get(i, '?') for i in text])\n",
    "print(decode_article(train_padded[10]))\n",
    "print('---')\n",
    "print(train_articles[10])"
   ]
  },
  {
   "cell_type": "markdown",
   "metadata": {},
   "source": [
    "Now we can implement LSTM. Here is my code that I build a tf.keras.Sequential model and start with an embedding layer. An embedding layer stores one vector per word. When called, it converts the sequences of word indices into sequences of vectors. After training, words with similar meanings often have the similar vectors.\n",
    "\n",
    "Next is how to implement LSTM in code. The Bidirectional wrapper is used with a LSTM layer, this propagates the input forwards and backwards through the LSTM layer and then concatenates the outputs. This helps LSTM to learn long term dependencies. We then fit it to a dense neural network to do classification.\n",
    "\n",
    "This index-lookup is much more efficient than the equivalent operation of passing a one-hot encoded vector through a tf.keras.layers.Dense layer."
   ]
  },
  {
   "cell_type": "code",
   "execution_count": 29,
   "metadata": {},
   "outputs": [
    {
     "name": "stdout",
     "output_type": "stream",
     "text": [
      "Model: \"sequential\"\n",
      "_________________________________________________________________\n",
      "Layer (type)                 Output Shape              Param #   \n",
      "=================================================================\n",
      "embedding (Embedding)        (None, None, 64)          320000    \n",
      "_________________________________________________________________\n",
      "bidirectional (Bidirectional (None, 128)               66048     \n",
      "_________________________________________________________________\n",
      "dense (Dense)                (None, 64)                8256      \n",
      "_________________________________________________________________\n",
      "dense_1 (Dense)              (None, 6)                 390       \n",
      "=================================================================\n",
      "Total params: 394,694\n",
      "Trainable params: 394,694\n",
      "Non-trainable params: 0\n",
      "_________________________________________________________________\n"
     ]
    }
   ],
   "source": [
    "model = tf.keras.Sequential([\n",
    "    # Add an Embedding layer expecting input vocab of size 5000, and output embedding dimension of size 64 we set at the top\n",
    "    tf.keras.layers.Embedding(vocab_size, embedding_dim),\n",
    "    tf.keras.layers.Bidirectional(tf.keras.layers.LSTM(embedding_dim)),\n",
    "#    tf.keras.layers.Bidirectional(tf.keras.layers.LSTM(32)),\n",
    "    # use ReLU in place of tanh function since they are very good alternatives of each other.\n",
    "    tf.keras.layers.Dense(embedding_dim, activation='relu'),\n",
    "    # Add a Dense layer with 6 units and softmax activation.\n",
    "    # When we have multiple outputs, softmax convert outputs layers into a probability distribution.\n",
    "    tf.keras.layers.Dense(6, activation='softmax')\n",
    "])\n",
    "model.summary()"
   ]
  },
  {
   "cell_type": "markdown",
   "metadata": {},
   "source": [
    "In our model summay, we have our embeddings, our Bidirectional contains LSTM, followed by two dense layers. The output from Bidirectional is 128, because it doubled what we put in LSTM. We can also stack LSTM layer but I found the results worse."
   ]
  },
  {
   "cell_type": "code",
   "execution_count": 30,
   "metadata": {},
   "outputs": [],
   "source": [
    "model.compile(loss='sparse_categorical_crossentropy', optimizer='adam', metrics=['accuracy'])"
   ]
  },
  {
   "cell_type": "code",
   "execution_count": 31,
   "metadata": {},
   "outputs": [
    {
     "name": "stdout",
     "output_type": "stream",
     "text": [
      "Train on 1780 samples, validate on 445 samples\n",
      "Epoch 1/10\n",
      "1780/1780 - 21s - loss: 1.6248 - accuracy: 0.2792 - val_loss: 1.4426 - val_accuracy: 0.3303\n",
      "Epoch 2/10\n",
      "1780/1780 - 14s - loss: 1.1245 - accuracy: 0.4961 - val_loss: 0.7886 - val_accuracy: 0.7101\n",
      "Epoch 3/10\n",
      "1780/1780 - 19s - loss: 0.4379 - accuracy: 0.8404 - val_loss: 0.3148 - val_accuracy: 0.9236\n",
      "Epoch 4/10\n",
      "1780/1780 - 18s - loss: 0.1059 - accuracy: 0.9775 - val_loss: 0.2929 - val_accuracy: 0.9146\n",
      "Epoch 5/10\n",
      "1780/1780 - 19s - loss: 0.0241 - accuracy: 0.9949 - val_loss: 0.2595 - val_accuracy: 0.9169\n",
      "Epoch 6/10\n",
      "1780/1780 - 19s - loss: 0.0076 - accuracy: 0.9994 - val_loss: 0.2570 - val_accuracy: 0.9281\n",
      "Epoch 7/10\n",
      "1780/1780 - 18s - loss: 0.0072 - accuracy: 0.9994 - val_loss: 0.3554 - val_accuracy: 0.9011\n",
      "Epoch 8/10\n",
      "1780/1780 - 19s - loss: 0.0146 - accuracy: 0.9978 - val_loss: 0.3218 - val_accuracy: 0.9056\n",
      "Epoch 9/10\n",
      "1780/1780 - 20s - loss: 0.0159 - accuracy: 0.9972 - val_loss: 0.2290 - val_accuracy: 0.9326\n",
      "Epoch 10/10\n",
      "1780/1780 - 19s - loss: 0.0026 - accuracy: 1.0000 - val_loss: 0.2218 - val_accuracy: 0.9483\n"
     ]
    }
   ],
   "source": [
    "num_epochs = 10\n",
    "history = model.fit(train_padded, training_label_seq, epochs=num_epochs, validation_data=(validation_padded, validation_label_seq), verbose=2)"
   ]
  },
  {
   "cell_type": "code",
   "execution_count": 42,
   "metadata": {},
   "outputs": [
    {
     "name": "stdout",
     "output_type": "stream",
     "text": [
      "Requirement already satisfied: matplotlib in c:\\users\\win10\\.conda\\envs\\tensorflow2\\lib\\site-packages (3.3.2)\n",
      "Requirement already satisfied: certifi>=2020.06.20 in c:\\users\\win10\\.conda\\envs\\tensorflow2\\lib\\site-packages (from matplotlib) (2020.6.20)\n",
      "Requirement already satisfied: numpy>=1.15 in c:\\users\\win10\\.conda\\envs\\tensorflow2\\lib\\site-packages (from matplotlib) (1.19.1)\n",
      "Requirement already satisfied: python-dateutil>=2.1 in c:\\users\\win10\\.conda\\envs\\tensorflow2\\lib\\site-packages (from matplotlib) (2.8.1)\n",
      "Requirement already satisfied: cycler>=0.10 in c:\\users\\win10\\.conda\\envs\\tensorflow2\\lib\\site-packages (from matplotlib) (0.10.0)\n",
      "Requirement already satisfied: kiwisolver>=1.0.1 in c:\\users\\win10\\.conda\\envs\\tensorflow2\\lib\\site-packages (from matplotlib) (1.2.0)\n",
      "Requirement already satisfied: pillow>=6.2.0 in c:\\users\\win10\\.conda\\envs\\tensorflow2\\lib\\site-packages (from matplotlib) (7.2.0)\n",
      "Requirement already satisfied: pyparsing!=2.0.4,!=2.1.2,!=2.1.6,>=2.0.3 in c:\\users\\win10\\.conda\\envs\\tensorflow2\\lib\\site-packages (from matplotlib) (2.4.7)\n",
      "Requirement already satisfied: six>=1.5 in c:\\users\\win10\\.conda\\envs\\tensorflow2\\lib\\site-packages (from python-dateutil>=2.1->matplotlib) (1.15.0)\n"
     ]
    }
   ],
   "source": [
    "!pip install matplotlib"
   ]
  },
  {
   "cell_type": "code",
   "execution_count": null,
   "metadata": {},
   "outputs": [],
   "source": []
  },
  {
   "cell_type": "code",
   "execution_count": 32,
   "metadata": {},
   "outputs": [
    {
     "data": {
      "image/png": "[encoded data removed]",
      "text/plain": [
       "<Figure size 432x288 with 1 Axes>"
      ]
     },
     "metadata": {
      "needs_background": "light"
     },
     "output_type": "display_data"
    },
    {
     "data": {
      "image/png": "[encoded data removed]",
      "text/plain": [
       "<Figure size 432x288 with 1 Axes>"
      ]
     },
     "metadata": {
      "needs_background": "light"
     },
     "output_type": "display_data"
    }
   ],
   "source": [
    "from matplotlib import pyplot as plt\n",
    "def plot_graphs(history, string):\n",
    "  plt.plot(history.history[string])\n",
    "  plt.plot(history.history['val_'+string])\n",
    "  plt.xlabel(\"Epochs\")\n",
    "  plt.ylabel(string)\n",
    "  plt.legend([string, 'val_'+string])\n",
    "  plt.show()\n",
    "  \n",
    "plot_graphs(history, \"accuracy\")\n",
    "plot_graphs(history, \"loss\")"
   ]
  },
  {
   "cell_type": "markdown",
   "metadata": {},
   "source": [
    "## Testing Model"
   ]
  },
  {
   "cell_type": "code",
   "execution_count": 33,
   "metadata": {},
   "outputs": [
    {
     "data": {
      "text/plain": [
       "array([[1.5726439e-06, 1.6261397e-03, 3.2351338e-05, 1.6969739e-07,\n",
       "        1.0564421e-05, 9.9832922e-01]], dtype=float32)"
      ]
     },
     "execution_count": 33,
     "metadata": {},
     "output_type": "execute_result"
    }
   ],
   "source": [
    "txt = [\"A WeWork shareholder has taken the company to court over the near-$1.7bn (£1.3bn) leaving package approved for ousted co-founder Adam Neumann.\"]\n",
    "seq = tokenizer.texts_to_sequences(txt)\n",
    "padded = pad_sequences(seq, maxlen=max_length)\n",
    "pred = model.predict(padded)\n",
    "pred"
   ]
  },
  {
   "cell_type": "code",
   "execution_count": 34,
   "metadata": {},
   "outputs": [
    {
     "name": "stdout",
     "output_type": "stream",
     "text": [
      "[[1.5726439e-06 1.6261397e-03 3.2351338e-05 1.6969739e-07 1.0564421e-05\n",
      "  9.9832922e-01]] unknown\n"
     ]
    }
   ],
   "source": [
    "txt = [\"A WeWork shareholder has taken the company to court over the near-$1.7bn (£1.3bn) leaving package approved for ousted co-founder Adam Neumann.\"]\n",
    "seq = tokenizer.texts_to_sequences(txt)\n",
    "padded = pad_sequences(seq, maxlen=max_length)\n",
    "pred = model.predict(padded)\n",
    "labels = ['sport', 'bussiness', 'politics', 'tech', 'entertainment','unknown']\n",
    "print(pred, labels[np.argmax(pred)])"
   ]
  },
  {
   "cell_type": "code",
   "execution_count": 35,
   "metadata": {},
   "outputs": [
    {
     "data": {
      "text/plain": [
       "5"
      ]
     },
     "execution_count": 35,
     "metadata": {},
     "output_type": "execute_result"
    }
   ],
   "source": [
    "np.argmax(pred)"
   ]
  },
  {
   "cell_type": "code",
   "execution_count": 37,
   "metadata": {},
   "outputs": [
    {
     "name": "stdout",
     "output_type": "stream",
     "text": [
      "[[0.00138938 0.02058147 0.36977506 0.01942592 0.49385867 0.09496955]] entertainment\n"
     ]
    }
   ],
   "source": [
    "txt = [\"games maker fights for survival one of britain s largest independent game makers  argonaut games  has been put up for sale.  the london-based company behind the harry potter games has sacked about 100 employees due to a severe cash crisis. the administrators told bbc news online that selling argonaut was the only way to save it as it had run out of cash. argonaut warned that it was low on cash 10 days ago when its shares were suspended from trading on the london stock exchange.  argonaut has been making games for some 18 years and is one the largest independent games developers in the uk.  along with its headquarters in north london  it operates studios in cambridge and sheffield. argonaut was behind the harry potter games which provided a healthy flow of cash into the company. but  like all software developers  argonaut needed a constant flow of deals with publishers. signs that it was in trouble emerged in august  when it warned it was heading for losses of Â£6m in the financial year due to delays in signing new contracts for games. those new deals were further delayed  leading argonaut to warn in mid-october that it was running out of cash and suspend trading of its shares on the london stock exchange. as part of cost-cutting measures  some 100 employees were fired.  when the news about the Â£6m loss came out  we knew there were going to be redundancies   said jason parkinson  one of the game developers sacked by argonaut.  a lot of people suspected that argonaut had been in trouble for some time   he told bbc news online. mr parkinson said staff were told the job losses were necessary to save argonaut from going under. at the start of the year  the company employed 268 people. after the latest round of cuts there are 80 staff at argonaut headquarters in edgware in north london  with 17 at its morpheme offices in kentish town  london  and 22 at the just add monsters base in cambridge.  argonaut called in administrators david rubin & partners on friday to find a way to rescue the company from collapse. it spent the weekend going over the company s finances and concluded that the only way to save the business was to put it up for sale. the administrator told bbc news online that the costs of restructuing would be too high  partly because of the overheads from the company s four premises across the uk. it said it was hopeful that it could save some 110 jobs by selling the business  saying it had had expressions of interest from several quarters and were looking for a quick sale. the administrator said it would ensure that staff made redundant would receive any wages  redundancy or holiday pay due to them  hopefully by christmas.\"]\n",
    "seq = tokenizer.texts_to_sequences(txt)\n",
    "padded = pad_sequences(seq, maxlen=max_length)\n",
    "pred = model.predict(padded)\n",
    "labels = ['sport', 'bussiness', 'politics', 'tech', 'entertainment','unknown']\n",
    "print(pred, labels[np.argmax(pred)])\n"
   ]
  },
  {
   "cell_type": "markdown",
   "metadata": {},
   "source": [
    "model is overfitted here as validation accuracy is fluctuating\n",
    "even on increasing epochs validation accuracy is not getting better\n",
    "\n",
    "Try using different model architecture use stacked LSTM with dropout layer to reduce overfitting"
   ]
  },
  {
   "cell_type": "code",
   "execution_count": 38,
   "metadata": {},
   "outputs": [
    {
     "name": "stdout",
     "output_type": "stream",
     "text": [
      "Model: \"sequential_1\"\n",
      "_________________________________________________________________\n",
      "Layer (type)                 Output Shape              Param #   \n",
      "=================================================================\n",
      "embedding_1 (Embedding)      (None, None, 64)          320000    \n",
      "_________________________________________________________________\n",
      "lstm_1 (LSTM)                (None, None, 64)          33024     \n",
      "_________________________________________________________________\n",
      "lstm_2 (LSTM)                (None, None, 32)          12416     \n",
      "_________________________________________________________________\n",
      "lstm_3 (LSTM)                (None, None, 32)          8320      \n",
      "_________________________________________________________________\n",
      "lstm_4 (LSTM)                (None, None, 32)          8320      \n",
      "_________________________________________________________________\n",
      "dropout (Dropout)            (None, None, 32)          0         \n",
      "_________________________________________________________________\n",
      "lstm_5 (LSTM)                (None, None, 32)          8320      \n",
      "_________________________________________________________________\n",
      "lstm_6 (LSTM)                (None, None, 32)          8320      \n",
      "_________________________________________________________________\n",
      "lstm_7 (LSTM)                (None, None, 32)          8320      \n",
      "_________________________________________________________________\n",
      "lstm_8 (LSTM)                (None, 32)                8320      \n",
      "_________________________________________________________________\n",
      "dense_2 (Dense)              (None, 64)                2112      \n",
      "_________________________________________________________________\n",
      "dense_3 (Dense)              (None, 6)                 390       \n",
      "=================================================================\n",
      "Total params: 417,862\n",
      "Trainable params: 417,862\n",
      "Non-trainable params: 0\n",
      "_________________________________________________________________\n"
     ]
    }
   ],
   "source": [
    "model = tf.keras.Sequential([\n",
    "    # Add an Embedding layer expecting input vocab of size 5000, and output embedding dimension of size 64 we set at the top\n",
    "    tf.keras.layers.Embedding(vocab_size, embedding_dim),\n",
    "    #tf.keras.layers.Bidirectional(tf.keras.layers.LSTM(embedding_dim)),\n",
    "    tf.keras.layers.LSTM(embedding_dim ,return_sequences=True),\n",
    "    tf.keras.layers.LSTM(32,return_sequences=True),\n",
    "    tf.keras.layers.LSTM(32,return_sequences=True),\n",
    "    tf.keras.layers.LSTM(32,return_sequences=True),\n",
    "    tf.keras.layers.Dropout(0.2),\n",
    "    tf.keras.layers.LSTM(32,return_sequences=True),\n",
    "    tf.keras.layers.LSTM(32,return_sequences=True),\n",
    "    tf.keras.layers.LSTM(32,return_sequences=True),\n",
    "    tf.keras.layers.LSTM(32),\n",
    "    #tf.keras.layers.Bidirectional(tf.keras.layers.LSTM(embedding_dim)),\n",
    "    # use ReLU in place of tanh function since they are very good alternatives of each other.\n",
    "    tf.keras.layers.Dense(embedding_dim, activation='relu'),\n",
    "    # Add a Dense layer with 6 units and softmax activation.\n",
    "    # When we have multiple outputs, softmax convert outputs layers into a probability distribution.\n",
    "    tf.keras.layers.Dense(6, activation='softmax')\n",
    "])\n",
    "model.summary()\n",
    "\n"
   ]
  },
  {
   "cell_type": "code",
   "execution_count": 39,
   "metadata": {},
   "outputs": [],
   "source": [
    "model.compile(loss='sparse_categorical_crossentropy', optimizer='adam', metrics=['accuracy'])"
   ]
  },
  {
   "cell_type": "code",
   "execution_count": 40,
   "metadata": {},
   "outputs": [
    {
     "name": "stdout",
     "output_type": "stream",
     "text": [
      "Train on 1780 samples, validate on 445 samples\n",
      "Epoch 1/10\n",
      "1780/1780 - 93s - loss: 1.6738 - accuracy: 0.2045 - val_loss: 1.6110 - val_accuracy: 0.2270\n",
      "Epoch 2/10\n",
      "1780/1780 - 83s - loss: 1.6126 - accuracy: 0.2281 - val_loss: 1.6082 - val_accuracy: 0.2270\n",
      "Epoch 3/10\n",
      "1780/1780 - 76s - loss: 1.6110 - accuracy: 0.2124 - val_loss: 1.6023 - val_accuracy: 0.2270\n",
      "Epoch 4/10\n",
      "1780/1780 - 78s - loss: 1.6090 - accuracy: 0.2197 - val_loss: 1.6042 - val_accuracy: 0.2382\n",
      "Epoch 5/10\n",
      "1780/1780 - 74s - loss: 1.6096 - accuracy: 0.2202 - val_loss: 1.6094 - val_accuracy: 0.2270\n",
      "Epoch 6/10\n",
      "1780/1780 - 71s - loss: 1.6095 - accuracy: 0.2399 - val_loss: 1.6030 - val_accuracy: 0.2382\n",
      "Epoch 7/10\n",
      "1780/1780 - 93s - loss: 1.6084 - accuracy: 0.2208 - val_loss: 1.6060 - val_accuracy: 0.2270\n",
      "Epoch 8/10\n",
      "1780/1780 - 86s - loss: 1.6119 - accuracy: 0.2225 - val_loss: 1.6053 - val_accuracy: 0.2382\n",
      "Epoch 9/10\n",
      "1780/1780 - 86s - loss: 1.6131 - accuracy: 0.2230 - val_loss: 1.6181 - val_accuracy: 0.2270\n",
      "Epoch 10/10\n",
      "1780/1780 - 79s - loss: 1.6101 - accuracy: 0.2213 - val_loss: 1.5986 - val_accuracy: 0.2270\n"
     ]
    }
   ],
   "source": [
    "num_epochs = 10\n",
    "history = model.fit(train_padded, training_label_seq, epochs=num_epochs, validation_data=(validation_padded, validation_label_seq), verbose=2)"
   ]
  },
  {
   "cell_type": "markdown",
   "metadata": {},
   "source": [
    "To visualize model architecture save model as model.h5\n",
    "and can be visualize in Netron "
   ]
  },
  {
   "cell_type": "code",
   "execution_count": 41,
   "metadata": {},
   "outputs": [
    {
     "data": {
      "image/png": "[encoded data removed]",
      "text/plain": [
       "<Figure size 432x288 with 1 Axes>"
      ]
     },
     "metadata": {
      "needs_background": "light"
     },
     "output_type": "display_data"
    },
    {
     "data": {
      "image/png": "[encoded data removed]",
      "text/plain": [
       "<Figure size 432x288 with 1 Axes>"
      ]
     },
     "metadata": {
      "needs_background": "light"
     },
     "output_type": "display_data"
    }
   ],
   "source": [
    "from matplotlib import pyplot as plt\n",
    "def plot_graphs(history, string):\n",
    "  plt.plot(history.history[string])\n",
    "  plt.plot(history.history['val_'+string])\n",
    "  plt.xlabel(\"Epochs\")\n",
    "  plt.ylabel(string)\n",
    "  plt.legend([string, 'val_'+string])\n",
    "  plt.show()\n",
    "  \n",
    "plot_graphs(history, \"accuracy\")\n",
    "plot_graphs(history, \"loss\")"
   ]
  },
  {
   "cell_type": "markdown",
   "metadata": {},
   "source": [
    "Stacking LSTM layers here make our model worse as evident from accuracy plots"
   ]
  },
  {
   "cell_type": "code",
   "execution_count": null,
   "metadata": {},
   "outputs": [],
   "source": []
  }
 ],
 "metadata": {
  "kernelspec": {
   "display_name": "Python 3",
   "language": "python",
   "name": "python3"
  },
  "language_info": {
   "codemirror_mode": {
    "name": "ipython",
    "version": 3
   },
   "file_extension": ".py",
   "mimetype": "text/x-python",
   "name": "python",
   "nbconvert_exporter": "python",
   "pygments_lexer": "ipython3",
   "version": "3.6.9"
  }
 },
 "nbformat": 4,
 "nbformat_minor": 2
}
